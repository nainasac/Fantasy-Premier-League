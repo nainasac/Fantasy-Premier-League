{
 "cells": [
  {
   "cell_type": "code",
   "execution_count": 3,
   "id": "1ce2dc2e",
   "metadata": {},
   "outputs": [
    {
     "data": {
      "image/png": "[encoded data removed]",
      "text/plain": [
       "<Figure size 432x288 with 1 Axes>"
      ]
     },
     "metadata": {
      "needs_background": "light"
     },
     "output_type": "display_data"
    }
   ],
   "source": [
    "import matplotlib.pyplot as plt\n",
    "from matplotlib.patches import Rectangle\n",
    "\n",
    "#define Matplotlib figure and axis\n",
    "fig, ax = plt.subplots()\n",
    "\n",
    "p = plt.Rectangle((0,0), 10, 5, fill=False)\n",
    "\n",
    "#create simple line plot\n",
    "# ax.plot([0, 10],[0, 10])\n",
    "\n",
    "#add rectangle to plot\n",
    "ax.add_patch(p)\n",
    "\n",
    "#display plot\n",
    "# plt.axis('off')\n",
    "plt.show()"
   ]
  }
 ],
 "metadata": {
  "kernelspec": {
   "display_name": "Python 3 (ipykernel)",
   "language": "python",
   "name": "python3"
  },
  "language_info": {
   "codemirror_mode": {
    "name": "ipython",
    "version": 3
   },
   "file_extension": ".py",
   "mimetype": "text/x-python",
   "name": "python",
   "nbconvert_exporter": "python",
   "pygments_lexer": "ipython3",
   "version": "3.8.8"
  }
 },
 "nbformat": 4,
 "nbformat_minor": 5
}
